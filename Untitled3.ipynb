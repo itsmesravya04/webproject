{
 "cells": [
  {
   "cell_type": "code",
   "execution_count": 4,
   "id": "7e6262a1",
   "metadata": {},
   "outputs": [
    {
     "name": "stdout",
     "output_type": "stream",
     "text": [
      "enter plain textHII\n",
      "ciphertext: LMM\n",
      "recovered plaintext: HII\n"
     ]
    }
   ],
   "source": [
    "import string\n",
    "\n",
    "all_letters = string.ascii_letters\n",
    "key = 4\n",
    "\n",
    "# Create a dictionary that maps each letter to its encrypted counterpart.\n",
    "dict1 = {letter: all_letters[(i + key) % len(all_letters)]\n",
    "          for i, letter in enumerate(all_letters)}\n",
    "text = input(\"enter plain text\")\n",
    "# Encrypt the plaintext message.\n",
    "ciphertext = \"\".join([dict1[letter] if letter in all_letters else letter\n",
    "                       for letter in text])\n",
    "\n",
    "# Print the ciphertext.\n",
    "print(\"ciphertext:\", ciphertext)\n",
    "\n",
    "# Create a dictionary that maps each letter to its decrypted counterpart.\n",
    "dict2 = {letter: all_letters[(i - key) % len(all_letters)]\n",
    "          for i, letter in enumerate(all_letters)}\n",
    "\n",
    "# Decrypt the ciphertext.\n",
    "plaintext = \"\".join([dict2[letter] if letter in all_letters else letter\n",
    "                       for letter in ciphertext])\n",
    "\n",
    "# Print the plaintext.\n",
    "print(\"recovered plaintext:\", plaintext)"
   ]
  },
  {
   "cell_type": "code",
   "execution_count": null,
   "id": "be61179f",
   "metadata": {},
   "outputs": [],
   "source": []
  },
  {
   "cell_type": "code",
   "execution_count": null,
   "id": "4592c73c",
   "metadata": {},
   "outputs": [],
   "source": []
  }
 ],
 "metadata": {
  "kernelspec": {
   "display_name": "Python 3 (ipykernel)",
   "language": "python",
   "name": "python3"
  },
  "language_info": {
   "codemirror_mode": {
    "name": "ipython",
    "version": 3
   },
   "file_extension": ".py",
   "mimetype": "text/x-python",
   "name": "python",
   "nbconvert_exporter": "python",
   "pygments_lexer": "ipython3",
   "version": "3.9.7"
  }
 },
 "nbformat": 4,
 "nbformat_minor": 5
}
